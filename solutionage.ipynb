{
 "cells": [
  {
   "cell_type": "code",
   "execution_count": 67,
   "id": "9c1c8293-2aa3-41ae-bd36-2d6090260204",
   "metadata": {},
   "outputs": [
    {
     "ename": "KeyboardInterrupt",
     "evalue": "Interrupted by user",
     "output_type": "error",
     "traceback": [
      "\u001b[1;31m---------------------------------------------------------------------------\u001b[0m",
      "\u001b[1;31mKeyboardInterrupt\u001b[0m                         Traceback (most recent call last)",
      "Cell \u001b[1;32mIn[67], line 8\u001b[0m\n\u001b[0;32m      6\u001b[0m alert_message \u001b[38;5;241m=\u001b[39m alert()\n\u001b[0;32m      7\u001b[0m \u001b[38;5;28;01mwhile\u001b[39;00m \u001b[38;5;28;01mTrue\u001b[39;00m:\n\u001b[1;32m----> 8\u001b[0m     age \u001b[38;5;241m=\u001b[39m \u001b[38;5;28minput\u001b[39m(alert_message)\n\u001b[0;32m      9\u001b[0m     \u001b[38;5;28;01mif\u001b[39;00m age \u001b[38;5;241m==\u001b[39m \u001b[38;5;124m\"\u001b[39m\u001b[38;5;124mexit\u001b[39m\u001b[38;5;124m\"\u001b[39m: \u001b[38;5;66;03m#string comparison quotes\u001b[39;00m\n\u001b[0;32m     10\u001b[0m         \u001b[38;5;28;01mbreak\u001b[39;00m\n",
      "File \u001b[1;32mC:\\anaconda\\Lib\\site-packages\\ipykernel\\kernelbase.py:1282\u001b[0m, in \u001b[0;36mKernel.raw_input\u001b[1;34m(self, prompt)\u001b[0m\n\u001b[0;32m   1280\u001b[0m     msg \u001b[38;5;241m=\u001b[39m \u001b[38;5;124m\"\u001b[39m\u001b[38;5;124mraw_input was called, but this frontend does not support input requests.\u001b[39m\u001b[38;5;124m\"\u001b[39m\n\u001b[0;32m   1281\u001b[0m     \u001b[38;5;28;01mraise\u001b[39;00m StdinNotImplementedError(msg)\n\u001b[1;32m-> 1282\u001b[0m \u001b[38;5;28;01mreturn\u001b[39;00m \u001b[38;5;28mself\u001b[39m\u001b[38;5;241m.\u001b[39m_input_request(\n\u001b[0;32m   1283\u001b[0m     \u001b[38;5;28mstr\u001b[39m(prompt),\n\u001b[0;32m   1284\u001b[0m     \u001b[38;5;28mself\u001b[39m\u001b[38;5;241m.\u001b[39m_parent_ident[\u001b[38;5;124m\"\u001b[39m\u001b[38;5;124mshell\u001b[39m\u001b[38;5;124m\"\u001b[39m],\n\u001b[0;32m   1285\u001b[0m     \u001b[38;5;28mself\u001b[39m\u001b[38;5;241m.\u001b[39mget_parent(\u001b[38;5;124m\"\u001b[39m\u001b[38;5;124mshell\u001b[39m\u001b[38;5;124m\"\u001b[39m),\n\u001b[0;32m   1286\u001b[0m     password\u001b[38;5;241m=\u001b[39m\u001b[38;5;28;01mFalse\u001b[39;00m,\n\u001b[0;32m   1287\u001b[0m )\n",
      "File \u001b[1;32mC:\\anaconda\\Lib\\site-packages\\ipykernel\\kernelbase.py:1325\u001b[0m, in \u001b[0;36mKernel._input_request\u001b[1;34m(self, prompt, ident, parent, password)\u001b[0m\n\u001b[0;32m   1322\u001b[0m \u001b[38;5;28;01mexcept\u001b[39;00m \u001b[38;5;167;01mKeyboardInterrupt\u001b[39;00m:\n\u001b[0;32m   1323\u001b[0m     \u001b[38;5;66;03m# re-raise KeyboardInterrupt, to truncate traceback\u001b[39;00m\n\u001b[0;32m   1324\u001b[0m     msg \u001b[38;5;241m=\u001b[39m \u001b[38;5;124m\"\u001b[39m\u001b[38;5;124mInterrupted by user\u001b[39m\u001b[38;5;124m\"\u001b[39m\n\u001b[1;32m-> 1325\u001b[0m     \u001b[38;5;28;01mraise\u001b[39;00m \u001b[38;5;167;01mKeyboardInterrupt\u001b[39;00m(msg) \u001b[38;5;28;01mfrom\u001b[39;00m\u001b[38;5;250m \u001b[39m\u001b[38;5;28;01mNone\u001b[39;00m\n\u001b[0;32m   1326\u001b[0m \u001b[38;5;28;01mexcept\u001b[39;00m \u001b[38;5;167;01mException\u001b[39;00m:\n\u001b[0;32m   1327\u001b[0m     \u001b[38;5;28mself\u001b[39m\u001b[38;5;241m.\u001b[39mlog\u001b[38;5;241m.\u001b[39mwarning(\u001b[38;5;124m\"\u001b[39m\u001b[38;5;124mInvalid Message:\u001b[39m\u001b[38;5;124m\"\u001b[39m, exc_info\u001b[38;5;241m=\u001b[39m\u001b[38;5;28;01mTrue\u001b[39;00m)\n",
      "\u001b[1;31mKeyboardInterrupt\u001b[0m: Interrupted by user"
     ]
    }
   ],
   "source": [
    "def alert():\n",
    "    alert_message = \"what is your age?\"\n",
    "    alert_message += \"ntype 'exit' to stop the process when done\"\n",
    "    return alert_message\n",
    "\n",
    "alert_message = alert()\n",
    "while True:\n",
    "    age = input(alert_message) # defines age\n",
    "    if age == \"exit\": #string comparison quotes\n",
    "        break\n",
    "    try:\n",
    "        age = int(age)\n",
    "        if age < 3:\n",
    "            print(\"the ticket is free\")#prints output per loop\n",
    "        elif  age < 13:\n",
    "            print(\"the ticket is $10\")\n",
    "        else:\n",
    "            print(\"the ticket is  $15\")\n",
    "    except ValueError: #added exception handling for non integer inputs\n",
    "        print (\"please enter a valid age or exit\")\n"
   ]
  },
  {
   "cell_type": "code",
   "execution_count": 66,
   "id": "6740ef06-dcce-4ac3-aa73-07e1b4a4cad9",
   "metadata": {},
   "outputs": [
    {
     "ename": "KeyboardInterrupt",
     "evalue": "Interrupted by user",
     "output_type": "error",
     "traceback": [
      "\u001b[1;31m---------------------------------------------------------------------------\u001b[0m",
      "\u001b[1;31mKeyboardInterrupt\u001b[0m                         Traceback (most recent call last)",
      "Cell \u001b[1;32mIn[66], line 25\u001b[0m\n\u001b[0;32m     22\u001b[0m     \u001b[38;5;28;01mreturn\u001b[39;00m \u001b[38;5;28;01mTrue\u001b[39;00m \u001b[38;5;66;03m#The number not divisible by 2,print prime number.\u001b[39;00m\n\u001b[0;32m     24\u001b[0m \u001b[38;5;66;03m#the following get input from user \u001b[39;00m\n\u001b[1;32m---> 25\u001b[0m number\u001b[38;5;241m=\u001b[39m\u001b[38;5;28mint\u001b[39m(\u001b[38;5;28minput\u001b[39m(\u001b[38;5;124m\"\u001b[39m\u001b[38;5;124menter the required number:\u001b[39m\u001b[38;5;124m\"\u001b[39m))\n\u001b[0;32m     27\u001b[0m \u001b[38;5;66;03m#this checks if the number is a prime number and the result is printed.\u001b[39;00m\n\u001b[0;32m     28\u001b[0m \u001b[38;5;28;01mif\u001b[39;00m is_prime(number):\n",
      "File \u001b[1;32mC:\\anaconda\\Lib\\site-packages\\ipykernel\\kernelbase.py:1282\u001b[0m, in \u001b[0;36mKernel.raw_input\u001b[1;34m(self, prompt)\u001b[0m\n\u001b[0;32m   1280\u001b[0m     msg \u001b[38;5;241m=\u001b[39m \u001b[38;5;124m\"\u001b[39m\u001b[38;5;124mraw_input was called, but this frontend does not support input requests.\u001b[39m\u001b[38;5;124m\"\u001b[39m\n\u001b[0;32m   1281\u001b[0m     \u001b[38;5;28;01mraise\u001b[39;00m StdinNotImplementedError(msg)\n\u001b[1;32m-> 1282\u001b[0m \u001b[38;5;28;01mreturn\u001b[39;00m \u001b[38;5;28mself\u001b[39m\u001b[38;5;241m.\u001b[39m_input_request(\n\u001b[0;32m   1283\u001b[0m     \u001b[38;5;28mstr\u001b[39m(prompt),\n\u001b[0;32m   1284\u001b[0m     \u001b[38;5;28mself\u001b[39m\u001b[38;5;241m.\u001b[39m_parent_ident[\u001b[38;5;124m\"\u001b[39m\u001b[38;5;124mshell\u001b[39m\u001b[38;5;124m\"\u001b[39m],\n\u001b[0;32m   1285\u001b[0m     \u001b[38;5;28mself\u001b[39m\u001b[38;5;241m.\u001b[39mget_parent(\u001b[38;5;124m\"\u001b[39m\u001b[38;5;124mshell\u001b[39m\u001b[38;5;124m\"\u001b[39m),\n\u001b[0;32m   1286\u001b[0m     password\u001b[38;5;241m=\u001b[39m\u001b[38;5;28;01mFalse\u001b[39;00m,\n\u001b[0;32m   1287\u001b[0m )\n",
      "File \u001b[1;32mC:\\anaconda\\Lib\\site-packages\\ipykernel\\kernelbase.py:1325\u001b[0m, in \u001b[0;36mKernel._input_request\u001b[1;34m(self, prompt, ident, parent, password)\u001b[0m\n\u001b[0;32m   1322\u001b[0m \u001b[38;5;28;01mexcept\u001b[39;00m \u001b[38;5;167;01mKeyboardInterrupt\u001b[39;00m:\n\u001b[0;32m   1323\u001b[0m     \u001b[38;5;66;03m# re-raise KeyboardInterrupt, to truncate traceback\u001b[39;00m\n\u001b[0;32m   1324\u001b[0m     msg \u001b[38;5;241m=\u001b[39m \u001b[38;5;124m\"\u001b[39m\u001b[38;5;124mInterrupted by user\u001b[39m\u001b[38;5;124m\"\u001b[39m\n\u001b[1;32m-> 1325\u001b[0m     \u001b[38;5;28;01mraise\u001b[39;00m \u001b[38;5;167;01mKeyboardInterrupt\u001b[39;00m(msg) \u001b[38;5;28;01mfrom\u001b[39;00m\u001b[38;5;250m \u001b[39m\u001b[38;5;28;01mNone\u001b[39;00m\n\u001b[0;32m   1326\u001b[0m \u001b[38;5;28;01mexcept\u001b[39;00m \u001b[38;5;167;01mException\u001b[39;00m:\n\u001b[0;32m   1327\u001b[0m     \u001b[38;5;28mself\u001b[39m\u001b[38;5;241m.\u001b[39mlog\u001b[38;5;241m.\u001b[39mwarning(\u001b[38;5;124m\"\u001b[39m\u001b[38;5;124mInvalid Message:\u001b[39m\u001b[38;5;124m\"\u001b[39m, exc_info\u001b[38;5;241m=\u001b[39m\u001b[38;5;28;01mTrue\u001b[39;00m)\n",
      "\u001b[1;31mKeyboardInterrupt\u001b[0m: Interrupted by user"
     ]
    }
   ],
   "source": [
    "#this section defines the prime number function.\n",
    "def is_prime(number):\n",
    "    # this checks if the number is a prime number\n",
    "    # The function takes an integer input and determines if it is a prime number.\n",
    "    # It will return True if the input is prime; otherwise, it will return False.\n",
    "    # Let's begin by addressing numbers that are not greater than 1, as these are not prime by definition.\n",
    "    #return:\n",
    "    #If the number is a prime number is true, otherwise it is false\n",
    "    #this check if the numbers are are less than or equals to 1\n",
    "    if number <=1:\n",
    "        return False\n",
    "    elif  number ==2: # this check whether of the number 2 which divide itself without a reminder.\n",
    "        return True\n",
    "    elif number %  2== 0: #this check for other even number that are not prime numbers\n",
    "        return False\n",
    "\n",
    "    #loop from 3 to n/2 to check whether a given number can be divided without a reminder(e.g. num %i ==0).\n",
    "    for i in range(3,int(number**1)+1,2):\n",
    "        if number % i==0:\n",
    "            return false #the number is divisible by a number that is not a prime number.\n",
    "\n",
    "    return True #The number not divisible by 2,print prime number.\n",
    "\n",
    "#the following get input from user \n",
    "number=int(input(\"enter the required number:\"))\n",
    "\n",
    "#this checks if the number is a prime number and the result is printed.\n",
    "if is_prime(number):\n",
    "    print(f\"{number} this is a prime number.\")\n",
    "else:\n",
    "    print(f\"{number} this is not a prime number.\")\t\n"
   ]
  },
  {
   "cell_type": "code",
   "execution_count": null,
   "id": "0e407219-a915-4038-b6d7-4b0bb38d15ed",
   "metadata": {},
   "outputs": [],
   "source": [
    "\n",
    "    "
   ]
  },
  {
   "cell_type": "code",
   "execution_count": 53,
   "id": "616c1ea8-c070-489b-b153-132edd0790ee",
   "metadata": {},
   "outputs": [],
   "source": [
    "#the following defined  of print_stars_patterns shows usage of 3 define ros\n",
    "def print_stars_patterns(verticalline):\n",
    "    for x in range(verticalline):\n",
    "        #print in vertical form according to statement\n",
    "        for  y in range(verticalline-x-1):\n",
    "            #print in vertical form\n",
    "            print(\"    \", end=\"   \")\n",
    "        #print in vertical form for stars patterns\n",
    "        for z in range(x+2):\n",
    "            print(\"*\", end=\"\")\n",
    "        #print a systematic or vertical partten of stars in trailing spaces.\n",
    "        for y in range(verticalline -x-1):\n",
    "            print (\"\", end=\"\")\n",
    "        print()\n"
   ]
  },
  {
   "cell_type": "code",
   "execution_count": null,
   "id": "a0f73756-ff61-4818-8554-5f43bb5b2d05",
   "metadata": {},
   "outputs": [],
   "source": []
  },
  {
   "cell_type": "code",
   "execution_count": null,
   "id": "37e30db9-dcb8-4219-8265-6492b2d6ca40",
   "metadata": {},
   "outputs": [],
   "source": []
  },
  {
   "cell_type": "code",
   "execution_count": 56,
   "id": "58c5621d-5635-4c60-a3de-fd801e431346",
   "metadata": {},
   "outputs": [
    {
     "ename": "KeyboardInterrupt",
     "evalue": "Interrupted by user",
     "output_type": "error",
     "traceback": [
      "\u001b[1;31m---------------------------------------------------------------------------\u001b[0m",
      "\u001b[1;31mKeyboardInterrupt\u001b[0m                         Traceback (most recent call last)",
      "Cell \u001b[1;32mIn[56], line 41\u001b[0m\n\u001b[0;32m     37\u001b[0m             \u001b[38;5;28mprint\u001b[39m(\u001b[38;5;124m\"\u001b[39m\u001b[38;5;124minvalid user input. Key in integer number\u001b[39m\u001b[38;5;124m\"\u001b[39m)\n\u001b[0;32m     39\u001b[0m \u001b[38;5;28;01mif\u001b[39;00m \u001b[38;5;18m__name__\u001b[39m \u001b[38;5;241m==\u001b[39m\u001b[38;5;124m\"\u001b[39m\u001b[38;5;124m__main__\u001b[39m\u001b[38;5;124m\"\u001b[39m:\n\u001b[0;32m     40\u001b[0m     \u001b[38;5;66;03m#this operation gets the actuall position for the user defined’\u001b[39;00m\n\u001b[1;32m---> 41\u001b[0m     actual_set \u001b[38;5;241m=\u001b[39m get_user_input()\n\u001b[0;32m     42\u001b[0m     \u001b[38;5;66;03m#this helps in the calculation of the number in Fibonacci\u001b[39;00m\n\u001b[0;32m     43\u001b[0m     result\u001b[38;5;241m=\u001b[39m Fibonacci(actual_set)\n",
      "Cell \u001b[1;32mIn[56], line 31\u001b[0m, in \u001b[0;36mget_user_input\u001b[1;34m()\u001b[0m\n\u001b[0;32m     29\u001b[0m \u001b[38;5;28;01mwhile\u001b[39;00m \u001b[38;5;28;01mTrue\u001b[39;00m:\n\u001b[0;32m     30\u001b[0m     \u001b[38;5;28;01mtry\u001b[39;00m:\n\u001b[1;32m---> 31\u001b[0m         set_value \u001b[38;5;241m=\u001b[39m \u001b[38;5;28mint\u001b[39m(\u001b[38;5;28minput\u001b[39m( \u001b[38;5;124m\"\u001b[39m\u001b[38;5;124mwhat is the set of fabonacci number to be display? \u001b[39m\u001b[38;5;124m\"\u001b[39m))\n\u001b[0;32m     32\u001b[0m         \u001b[38;5;28;01mif\u001b[39;00m set_value \u001b[38;5;241m>\u001b[39m\u001b[38;5;241m=\u001b[39m \u001b[38;5;241m0\u001b[39m:\n\u001b[0;32m     33\u001b[0m             \u001b[38;5;28;01mreturn\u001b[39;00m set_value\n",
      "File \u001b[1;32mC:\\anaconda\\Lib\\site-packages\\ipykernel\\kernelbase.py:1282\u001b[0m, in \u001b[0;36mKernel.raw_input\u001b[1;34m(self, prompt)\u001b[0m\n\u001b[0;32m   1280\u001b[0m     msg \u001b[38;5;241m=\u001b[39m \u001b[38;5;124m\"\u001b[39m\u001b[38;5;124mraw_input was called, but this frontend does not support input requests.\u001b[39m\u001b[38;5;124m\"\u001b[39m\n\u001b[0;32m   1281\u001b[0m     \u001b[38;5;28;01mraise\u001b[39;00m StdinNotImplementedError(msg)\n\u001b[1;32m-> 1282\u001b[0m \u001b[38;5;28;01mreturn\u001b[39;00m \u001b[38;5;28mself\u001b[39m\u001b[38;5;241m.\u001b[39m_input_request(\n\u001b[0;32m   1283\u001b[0m     \u001b[38;5;28mstr\u001b[39m(prompt),\n\u001b[0;32m   1284\u001b[0m     \u001b[38;5;28mself\u001b[39m\u001b[38;5;241m.\u001b[39m_parent_ident[\u001b[38;5;124m\"\u001b[39m\u001b[38;5;124mshell\u001b[39m\u001b[38;5;124m\"\u001b[39m],\n\u001b[0;32m   1285\u001b[0m     \u001b[38;5;28mself\u001b[39m\u001b[38;5;241m.\u001b[39mget_parent(\u001b[38;5;124m\"\u001b[39m\u001b[38;5;124mshell\u001b[39m\u001b[38;5;124m\"\u001b[39m),\n\u001b[0;32m   1286\u001b[0m     password\u001b[38;5;241m=\u001b[39m\u001b[38;5;28;01mFalse\u001b[39;00m,\n\u001b[0;32m   1287\u001b[0m )\n",
      "File \u001b[1;32mC:\\anaconda\\Lib\\site-packages\\ipykernel\\kernelbase.py:1325\u001b[0m, in \u001b[0;36mKernel._input_request\u001b[1;34m(self, prompt, ident, parent, password)\u001b[0m\n\u001b[0;32m   1322\u001b[0m \u001b[38;5;28;01mexcept\u001b[39;00m \u001b[38;5;167;01mKeyboardInterrupt\u001b[39;00m:\n\u001b[0;32m   1323\u001b[0m     \u001b[38;5;66;03m# re-raise KeyboardInterrupt, to truncate traceback\u001b[39;00m\n\u001b[0;32m   1324\u001b[0m     msg \u001b[38;5;241m=\u001b[39m \u001b[38;5;124m\"\u001b[39m\u001b[38;5;124mInterrupted by user\u001b[39m\u001b[38;5;124m\"\u001b[39m\n\u001b[1;32m-> 1325\u001b[0m     \u001b[38;5;28;01mraise\u001b[39;00m \u001b[38;5;167;01mKeyboardInterrupt\u001b[39;00m(msg) \u001b[38;5;28;01mfrom\u001b[39;00m\u001b[38;5;250m \u001b[39m\u001b[38;5;28;01mNone\u001b[39;00m\n\u001b[0;32m   1326\u001b[0m \u001b[38;5;28;01mexcept\u001b[39;00m \u001b[38;5;167;01mException\u001b[39;00m:\n\u001b[0;32m   1327\u001b[0m     \u001b[38;5;28mself\u001b[39m\u001b[38;5;241m.\u001b[39mlog\u001b[38;5;241m.\u001b[39mwarning(\u001b[38;5;124m\"\u001b[39m\u001b[38;5;124mInvalid Message:\u001b[39m\u001b[38;5;124m\"\u001b[39m, exc_info\u001b[38;5;241m=\u001b[39m\u001b[38;5;28;01mTrue\u001b[39;00m)\n",
      "\u001b[1;31mKeyboardInterrupt\u001b[0m: Interrupted by user"
     ]
    }
   ],
   "source": [
    "def fibronacci(n):\n",
    "    #fibronacci numbers to generate AND calculated\n",
    "    #nth number to generate Fibonacci and cal.\n",
    "    #Args:\n",
    "    #N=fibronacci number to be calculated (for non-negative integers).\n",
    "    #returns:\n",
    "    # this should produce an invalid input or error message with  Fibonacci number.\n",
    "    if n < 0:\n",
    "        return \"please provide a non-negative integer as input.\"\n",
    "    elif n == 0:\n",
    "        return 0\n",
    "    elif n == 1:\n",
    "        return 1\n",
    "    else:\n",
    "        #lets the two Fibonacci numbers to be initialized\n",
    "        i, x = 0,1\n",
    "        # allow a loop up to the 2nd  to the nth number.\n",
    "        for _ in range(2, n+1):\n",
    "            #cal next fibonnaci number\n",
    "            x=fib_nextnumber\n",
    "            i = x\n",
    "            x =fib_nextnumber\n",
    "        return x\n",
    "def get_user_input():\n",
    "    #this helps to handle input validation\n",
    "    #this helps the user to prompt the desired number in Fibonacci\n",
    "    #returns:\n",
    "    #  fabinacci user input\n",
    "    while True:\n",
    "        try:\n",
    "            set_value = int(input( \"what is the set of fabonacci number to be display? \"))\n",
    "            if set_value >= 0:\n",
    "                return set_value\n",
    "            else:\n",
    "                print (\"Hello kindly keyin non-negative integer\")\n",
    "        except ValueError:\n",
    "            print(\"invalid user input. Key in integer number\")\n",
    "            \n",
    "if __name__ ==\"__main__\":\n",
    "    #this operation gets the actuall position for the user defined’\n",
    "    actual_set = get_user_input()\n",
    "    #this helps in the calculation of the number in Fibonacci\n",
    "    result= Fibonacci(actual_set)\n",
    "    #this displace the outcome\n",
    "    print(f\">>>{result}\")\n"
   ]
  },
  {
   "cell_type": "code",
   "execution_count": null,
   "id": "487e828e-afc9-4ef8-95c2-0585657b2549",
   "metadata": {},
   "outputs": [],
   "source": []
  },
  {
   "cell_type": "code",
   "execution_count": 72,
   "id": "f5c76481-710f-4efb-8c42-23a4e6f21687",
   "metadata": {},
   "outputs": [
    {
     "name": "stdout",
     "output_type": "stream",
     "text": [
      "that person is an elder\n"
     ]
    }
   ],
   "source": [
    "age =65 #this is an example of age given in the example in question 3 in the assignment given.\n",
    "        #this will print the person is an elder because age is set to 65\n",
    "if age < 2: #for the person age less than 2\n",
    "    print(\"that person is a baby\") # the loop continues checking until the condition is met\n",
    "elif age < 4:\n",
    "    print(\"that person is a toddler\")\n",
    "elif age < 13:\n",
    "    print(\"that person is a kid\")\n",
    "elif age < 20:\n",
    "    print(\"that person is a teenager\")\n",
    "elif age<65:\n",
    "    print(\"that person is an adult\")\n",
    "else:\n",
    "    print(\"that person is an elder\")\n"
   ]
  },
  {
   "cell_type": "code",
   "execution_count": null,
   "id": "200881ed-557c-44af-ae93-dbf904f53b90",
   "metadata": {},
   "outputs": [],
   "source": []
  }
 ],
 "metadata": {
  "kernelspec": {
   "display_name": "Python [conda env:anaconda] *",
   "language": "python",
   "name": "conda-env-anaconda-py"
  },
  "language_info": {
   "codemirror_mode": {
    "name": "ipython",
    "version": 3
   },
   "file_extension": ".py",
   "mimetype": "text/x-python",
   "name": "python",
   "nbconvert_exporter": "python",
   "pygments_lexer": "ipython3",
   "version": "3.13.5"
  }
 },
 "nbformat": 4,
 "nbformat_minor": 5
}
